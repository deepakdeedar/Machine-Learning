{
 "metadata": {
  "language_info": {
   "codemirror_mode": {
    "name": "ipython",
    "version": 3
   },
   "file_extension": ".py",
   "mimetype": "text/x-python",
   "name": "python",
   "nbconvert_exporter": "python",
   "pygments_lexer": "ipython3",
   "version": "3.8.5-final"
  },
  "orig_nbformat": 2,
  "kernelspec": {
   "name": "python_defaultSpec_1601314375698",
   "display_name": "Python 3.8.5 64-bit"
  }
 },
 "nbformat": 4,
 "nbformat_minor": 2,
 "cells": [
  {
   "cell_type": "code",
   "execution_count": null,
   "metadata": {},
   "outputs": [],
   "source": [
    "import pandas as pd\n",
    "data_frame = pd.read_csv('data.csv')\n",
    "data_frame.shape"
   ]
  },
  {
   "source": [
    "# This is a demo"
   ],
   "cell_type": "markdown",
   "metadata": {}
  },
  {
   "source": [
    "print('hello world')"
   ],
   "cell_type": "code",
   "metadata": {},
   "execution_count": null,
   "outputs": []
  },
  {
   "cell_type": "code",
   "execution_count": null,
   "metadata": {},
   "outputs": [],
   "source": [
    "data_frame.describe()"
   ]
  },
  {
   "cell_type": "code",
   "execution_count": null,
   "metadata": {},
   "outputs": [],
   "source": [
    "df1 = pd.DataFrame(data_frame, columns=['Name', 'Wage', 'Value'])\n",
    "def value_to_float(x):\n",
    "    if type(x) == float or type(x) == int:\n",
    "        return x\n",
    "    if 'K' in x:\n",
    "        if len(x) > 1:\n",
    "            return float(x.replace('K', '')) * 1000\n",
    "        return 1000.0\n",
    "    if 'M' in x:\n",
    "        if len(x) > 1:\n",
    "            return float(x.replace('M', '')) * 1000000\n",
    "        return 1000000.0\n",
    "    if 'B' in x:\n",
    "        return float(x.replace('B', '')) * 1000000000\n",
    "    return 0.0\n",
    "\n",
    "wage = df1['Wage'].replace('[\\€,]', '', regex=True).apply(value_to_float)\n",
    "value = df1['Value'].replace('[\\€,]', '', regex=True).apply(value_to_float)\n",
    "\n",
    "df1['Wage'] = wage\n",
    "df1['Value'] = value\n",
    "\n",
    "df1['difference'] = df1['Value'] - df1['Wage']\n",
    "df1.sort_values('difference', ascending=False)"
   ]
  },
  {
   "cell_type": "code",
   "execution_count": null,
   "metadata": {},
   "outputs": [],
   "source": [
    "from bokeh.plotting import figure,show\n",
    "from bokeh.models import HoverTool\n",
    "\n",
    "TOOLTIPS = HoverTool(tooltips=[\n",
    "    (\"index\", \"$index\"),\n",
    "    (\"(Wage,Value)\", \"(@Wage, @Value)\"),\n",
    "    (\"Name\", \"@Name\")]\n",
    ")\n",
    "\n",
    "p = figure(title=\"Soccer 2019\", x_axis_label='Wage', y_axis_label='Value', plot_width=700, plot_height=700, tools=[TOOLTIPS])\n",
    "p.circle('Wage', 'Value', size=10, source=df1)\n",
    "show(p)"
   ]
  },
  {
   "cell_type": "code",
   "execution_count": null,
   "metadata": {},
   "outputs": [],
   "source": []
  }
 ]
}